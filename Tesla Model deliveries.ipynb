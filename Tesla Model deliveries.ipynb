{
 "cells": [
  {
   "cell_type": "code",
   "execution_count": 21,
   "metadata": {},
   "outputs": [],
   "source": [
    "import pandas as pd\n",
    "import plotly\n",
    "import plotly. io as pio\n",
    "import plotly.graph_objects as go\n",
    "import os\n",
    "os.chdir(r'D:\\Python project\\plotly')"
   ]
  },
  {
   "cell_type": "code",
   "execution_count": 22,
   "metadata": {},
   "outputs": [],
   "source": [
    "df=pd.read_csv('Tesla deliveries.csv')\n",
    "df['Year'] = df['Year'].apply(str)\n",
    "df['Quarter'] = df['Quarter'].apply(str)\n",
    "df['Quarter/Year'] = df['Year'] + ' Q' + df['Quarter']\n",
    "color=['#1f77b4', '#ff7f0e', '#2ca02c ', '#d62728 ']\n",
    "model = df['Model'].unique().tolist()\n",
    "for x, y in zip(model, color):\n",
    "    df.loc[df['Model'] == x, 'Color_Code'] = y"
   ]
  },
  {
   "cell_type": "code",
   "execution_count": 23,
   "metadata": {},
   "outputs": [],
   "source": [
    "dict_keys=['one','two','three','four','five','six','seven','eight','nine','ten','eleven','twele','thirteen',\n",
    "           'fourteen','fifteen','sixteen','seventeen','eighteen']\n",
    "years=['2016 Q2', '2016 Q3', '2016 Q4', '2017 Q1', '2017 Q2', '2017 Q3', '2017 Q4', '2018 Q1', '2018 Q2', '2018 Q3', '2018 Q4', '2019 Q1', '2019 Q2', '2019 Q3', '2019 Q4', '2020 Q1', '2020 Q2', '2020 Q3']\n"
   ]
  },
  {
   "cell_type": "code",
   "execution_count": 24,
   "metadata": {},
   "outputs": [
    {
     "name": "stdout",
     "output_type": "stream",
     "text": [
      "{'one':       Model  Year Quarter  Deliveries No. Quarter/Year Color_Code\n",
      "0   Model 3  2016       2               0      2016 Q2    #1f77b4\n",
      "18  Model Y  2016       2               0      2016 Q2    #ff7f0e\n",
      "54  Model X  2016       2            4638      2016 Q2   #d62728 \n",
      "36  Model S  2016       2            9764      2016 Q2   #2ca02c , 'two':       Model  Year Quarter  Deliveries No. Quarter/Year Color_Code\n",
      "1   Model 3  2016       3               0      2016 Q3    #1f77b4\n",
      "19  Model Y  2016       3               0      2016 Q3    #ff7f0e\n",
      "55  Model X  2016       3            8774      2016 Q3   #d62728 \n",
      "37  Model S  2016       3           16047      2016 Q3   #2ca02c , 'three':       Model  Year Quarter  Deliveries No. Quarter/Year Color_Code\n",
      "2   Model 3  2016       4               0      2016 Q4    #1f77b4\n",
      "20  Model Y  2016       4               0      2016 Q4    #ff7f0e\n",
      "56  Model X  2016       4            9500      2016 Q4   #d62728 \n",
      "38  Model S  2016       4           12700      2016 Q4   #2ca02c , 'four':       Model  Year Quarter  Deliveries No. Quarter/Year Color_Code\n",
      "3   Model 3  2017       1               0      2017 Q1    #1f77b4\n",
      "21  Model Y  2017       1               0      2017 Q1    #ff7f0e\n",
      "57  Model X  2017       1           11570      2017 Q1   #d62728 \n",
      "39  Model S  2017       1           13481      2017 Q1   #2ca02c , 'five':       Model  Year Quarter  Deliveries No. Quarter/Year Color_Code\n",
      "4   Model 3  2017       2               0      2017 Q2    #1f77b4\n",
      "22  Model Y  2017       2               0      2017 Q2    #ff7f0e\n",
      "58  Model X  2017       2           10010      2017 Q2   #d62728 \n",
      "40  Model S  2017       2           12010      2017 Q2   #2ca02c , 'six':       Model  Year Quarter  Deliveries No. Quarter/Year Color_Code\n",
      "23  Model Y  2017       3               0      2017 Q3    #ff7f0e\n",
      "5   Model 3  2017       3             220      2017 Q3    #1f77b4\n",
      "59  Model X  2017       3           11865      2017 Q3   #d62728 \n",
      "41  Model S  2017       3           14065      2017 Q3   #2ca02c , 'seven':       Model  Year Quarter  Deliveries No. Quarter/Year Color_Code\n",
      "24  Model Y  2017       4               0      2017 Q4    #ff7f0e\n",
      "6   Model 3  2017       4            1550      2017 Q4    #1f77b4\n",
      "60  Model X  2017       4           13120      2017 Q4   #d62728 \n",
      "42  Model S  2017       4           15200      2017 Q4   #2ca02c , 'eight':       Model  Year Quarter  Deliveries No. Quarter/Year Color_Code\n",
      "25  Model Y  2018       1               0      2018 Q1    #ff7f0e\n",
      "7   Model 3  2018       1            8180      2018 Q1    #1f77b4\n",
      "61  Model X  2018       1           10070      2018 Q1   #d62728 \n",
      "43  Model S  2018       1           11730      2018 Q1   #2ca02c , 'nine':       Model  Year Quarter  Deliveries No. Quarter/Year Color_Code\n",
      "26  Model Y  2018       2               0      2018 Q2    #ff7f0e\n",
      "44  Model S  2018       2           10930      2018 Q2   #2ca02c \n",
      "62  Model X  2018       2           11370      2018 Q2   #d62728 \n",
      "8   Model 3  2018       2           18440      2018 Q2    #1f77b4, 'ten':       Model  Year Quarter  Deliveries No. Quarter/Year Color_Code\n",
      "27  Model Y  2018       3               0      2018 Q3    #ff7f0e\n",
      "63  Model X  2018       3           13190      2018 Q3   #d62728 \n",
      "45  Model S  2018       3           14470      2018 Q3   #2ca02c \n",
      "9   Model 3  2018       3           55840      2018 Q3    #1f77b4, 'eleven':       Model  Year Quarter  Deliveries No. Quarter/Year Color_Code\n",
      "28  Model Y  2018       4               0      2018 Q4    #ff7f0e\n",
      "46  Model S  2018       4           13500      2018 Q4   #2ca02c \n",
      "64  Model X  2018       4           14050      2018 Q4   #d62728 \n",
      "10  Model 3  2018       4           63150      2018 Q4    #1f77b4, 'twele':       Model  Year Quarter  Deliveries No. Quarter/Year Color_Code\n",
      "29  Model Y  2019       1               0      2019 Q1    #ff7f0e\n",
      "47  Model S  2019       1            6000      2019 Q1   #2ca02c \n",
      "65  Model X  2019       1            6100      2019 Q1   #d62728 \n",
      "11  Model 3  2019       1           50900      2019 Q1    #1f77b4, 'thirteen':       Model  Year Quarter  Deliveries No. Quarter/Year Color_Code\n",
      "30  Model Y  2019       2               0      2019 Q2    #ff7f0e\n",
      "48  Model S  2019       2            8422      2019 Q2   #2ca02c \n",
      "66  Model X  2019       2            9300      2019 Q2   #d62728 \n",
      "12  Model 3  2019       2           77634      2019 Q2    #1f77b4, 'fourteen':       Model  Year Quarter  Deliveries No. Quarter/Year Color_Code\n",
      "31  Model Y  2019       3               0      2019 Q3    #ff7f0e\n",
      "49  Model S  2019       3            8383      2019 Q3   #2ca02c \n",
      "67  Model X  2019       3            9100      2019 Q3   #d62728 \n",
      "13  Model 3  2019       3           79703      2019 Q3    #1f77b4, 'fifteen':       Model  Year Quarter  Deliveries No. Quarter/Year Color_Code\n",
      "32  Model Y  2019       4               0      2019 Q4    #ff7f0e\n",
      "50  Model S  2019       4            8375      2019 Q4   #2ca02c \n",
      "68  Model X  2019       4           11000      2019 Q4   #d62728 \n",
      "14  Model 3  2019       4           92620      2019 Q4    #1f77b4, 'sixteen':       Model  Year Quarter  Deliveries No. Quarter/Year Color_Code\n",
      "33  Model Y  2020       1            2286      2020 Q1    #ff7f0e\n",
      "51  Model S  2020       1            4525      2020 Q1   #2ca02c \n",
      "69  Model X  2020       1            7705      2020 Q1   #d62728 \n",
      "15  Model 3  2020       1           73980      2020 Q1    #1f77b4, 'seventeen':       Model  Year Quarter  Deliveries No. Quarter/Year Color_Code\n",
      "52  Model S  2020       2            3927      2020 Q2   #2ca02c \n",
      "70  Model X  2020       2            6687      2020 Q2   #d62728 \n",
      "34  Model Y  2020       2           16575      2020 Q2    #ff7f0e\n",
      "16  Model 3  2020       2           63702      2020 Q2    #1f77b4, 'eighteen':       Model  Year Quarter  Deliveries No. Quarter/Year Color_Code\n",
      "53  Model S  2020       3            4560      2020 Q3   #2ca02c \n",
      "71  Model X  2020       3           10640      2020 Q3   #d62728 \n",
      "35  Model Y  2020       3           26061      2020 Q3    #ff7f0e\n",
      "17  Model 3  2020       3           98039      2020 Q3    #1f77b4}\n"
     ]
    }
   ],
   "source": [
    "n_frame = {}\n",
    "\n",
    "for y, d in zip(years, dict_keys):\n",
    "    dataframe=df[df['Quarter/Year']==y]\n",
    "    dataframe=dataframe.sort_values(by=['Quarter/Year', 'Deliveries No.' ])\n",
    "    \n",
    "    n_frame[d] = dataframe\n",
    "\n",
    "print(n_frame)"
   ]
  },
  {
   "cell_type": "code",
   "execution_count": 25,
   "metadata": {},
   "outputs": [
    {
     "data": {
      "application/vnd.plotly.v1+json": {
       "config": {
        "plotlyServerURL": "https://plot.ly"
       },
       "data": [
        {
         "insidetextanchor": "middle",
         "marker": {
          "color": [
           "#1f77b4",
           "#ff7f0e",
           "#d62728 ",
           "#2ca02c "
          ]
         },
         "orientation": "h",
         "text": [
          0,
          0,
          4638,
          9764
         ],
         "textfont": {
          "size": 18
         },
         "textposition": "inside",
         "texttemplate": "%{text:.3s}",
         "type": "bar",
         "width": 0.9,
         "x": [
          0,
          0,
          4638,
          9764
         ],
         "y": [
          "Model 3",
          "Model Y",
          "Model X",
          "Model S"
         ]
        }
       ],
       "frames": [
        {
         "data": [
          {
           "marker": {
            "color": [
             "#1f77b4",
             "#ff7f0e",
             "#d62728 ",
             "#2ca02c "
            ]
           },
           "orientation": "h",
           "text": [
            0,
            0,
            4638,
            9764
           ],
           "type": "bar",
           "x": [
            0,
            0,
            4638,
            9764
           ],
           "y": [
            "Model 3",
            "Model Y",
            "Model X",
            "Model S"
           ]
          }
         ],
         "layout": {
          "title": {
           "font": {
            "size": 28
           },
           "text": "Tesla No. of deliveries: 2016 Q2"
          },
          "xaxis": {
           "autorange": false,
           "range": [
            0,
            100000
           ]
          },
          "yaxis": {
           "autorange": false,
           "range": [
            -0.5,
            5.5
           ],
           "tickfont": {
            "size": 14
           }
          }
         }
        },
        {
         "data": [
          {
           "marker": {
            "color": [
             "#1f77b4",
             "#ff7f0e",
             "#d62728 ",
             "#2ca02c "
            ]
           },
           "orientation": "h",
           "text": [
            0,
            0,
            8774,
            16047
           ],
           "type": "bar",
           "x": [
            0,
            0,
            8774,
            16047
           ],
           "y": [
            "Model 3",
            "Model Y",
            "Model X",
            "Model S"
           ]
          }
         ],
         "layout": {
          "title": {
           "font": {
            "size": 28
           },
           "text": "Tesla No. of deliveries: 2016 Q3"
          },
          "xaxis": {
           "autorange": false,
           "range": [
            0,
            100000
           ]
          },
          "yaxis": {
           "autorange": false,
           "range": [
            -0.5,
            5.5
           ],
           "tickfont": {
            "size": 14
           }
          }
         }
        },
        {
         "data": [
          {
           "marker": {
            "color": [
             "#1f77b4",
             "#ff7f0e",
             "#d62728 ",
             "#2ca02c "
            ]
           },
           "orientation": "h",
           "text": [
            0,
            0,
            9500,
            12700
           ],
           "type": "bar",
           "x": [
            0,
            0,
            9500,
            12700
           ],
           "y": [
            "Model 3",
            "Model Y",
            "Model X",
            "Model S"
           ]
          }
         ],
         "layout": {
          "title": {
           "font": {
            "size": 28
           },
           "text": "Tesla No. of deliveries: 2016 Q4"
          },
          "xaxis": {
           "autorange": false,
           "range": [
            0,
            100000
           ]
          },
          "yaxis": {
           "autorange": false,
           "range": [
            -0.5,
            5.5
           ],
           "tickfont": {
            "size": 14
           }
          }
         }
        },
        {
         "data": [
          {
           "marker": {
            "color": [
             "#1f77b4",
             "#ff7f0e",
             "#d62728 ",
             "#2ca02c "
            ]
           },
           "orientation": "h",
           "text": [
            0,
            0,
            11570,
            13481
           ],
           "type": "bar",
           "x": [
            0,
            0,
            11570,
            13481
           ],
           "y": [
            "Model 3",
            "Model Y",
            "Model X",
            "Model S"
           ]
          }
         ],
         "layout": {
          "title": {
           "font": {
            "size": 28
           },
           "text": "Tesla No. of deliveries: 2017 Q1"
          },
          "xaxis": {
           "autorange": false,
           "range": [
            0,
            100000
           ]
          },
          "yaxis": {
           "autorange": false,
           "range": [
            -0.5,
            5.5
           ],
           "tickfont": {
            "size": 14
           }
          }
         }
        },
        {
         "data": [
          {
           "marker": {
            "color": [
             "#1f77b4",
             "#ff7f0e",
             "#d62728 ",
             "#2ca02c "
            ]
           },
           "orientation": "h",
           "text": [
            0,
            0,
            10010,
            12010
           ],
           "type": "bar",
           "x": [
            0,
            0,
            10010,
            12010
           ],
           "y": [
            "Model 3",
            "Model Y",
            "Model X",
            "Model S"
           ]
          }
         ],
         "layout": {
          "title": {
           "font": {
            "size": 28
           },
           "text": "Tesla No. of deliveries: 2017 Q2"
          },
          "xaxis": {
           "autorange": false,
           "range": [
            0,
            100000
           ]
          },
          "yaxis": {
           "autorange": false,
           "range": [
            -0.5,
            5.5
           ],
           "tickfont": {
            "size": 14
           }
          }
         }
        },
        {
         "data": [
          {
           "marker": {
            "color": [
             "#ff7f0e",
             "#1f77b4",
             "#d62728 ",
             "#2ca02c "
            ]
           },
           "orientation": "h",
           "text": [
            0,
            220,
            11865,
            14065
           ],
           "type": "bar",
           "x": [
            0,
            220,
            11865,
            14065
           ],
           "y": [
            "Model Y",
            "Model 3",
            "Model X",
            "Model S"
           ]
          }
         ],
         "layout": {
          "title": {
           "font": {
            "size": 28
           },
           "text": "Tesla No. of deliveries: 2017 Q3"
          },
          "xaxis": {
           "autorange": false,
           "range": [
            0,
            100000
           ]
          },
          "yaxis": {
           "autorange": false,
           "range": [
            -0.5,
            5.5
           ],
           "tickfont": {
            "size": 14
           }
          }
         }
        },
        {
         "data": [
          {
           "marker": {
            "color": [
             "#ff7f0e",
             "#1f77b4",
             "#d62728 ",
             "#2ca02c "
            ]
           },
           "orientation": "h",
           "text": [
            0,
            1550,
            13120,
            15200
           ],
           "type": "bar",
           "x": [
            0,
            1550,
            13120,
            15200
           ],
           "y": [
            "Model Y",
            "Model 3",
            "Model X",
            "Model S"
           ]
          }
         ],
         "layout": {
          "title": {
           "font": {
            "size": 28
           },
           "text": "Tesla No. of deliveries: 2017 Q4"
          },
          "xaxis": {
           "autorange": false,
           "range": [
            0,
            100000
           ]
          },
          "yaxis": {
           "autorange": false,
           "range": [
            -0.5,
            5.5
           ],
           "tickfont": {
            "size": 14
           }
          }
         }
        },
        {
         "data": [
          {
           "marker": {
            "color": [
             "#ff7f0e",
             "#1f77b4",
             "#d62728 ",
             "#2ca02c "
            ]
           },
           "orientation": "h",
           "text": [
            0,
            8180,
            10070,
            11730
           ],
           "type": "bar",
           "x": [
            0,
            8180,
            10070,
            11730
           ],
           "y": [
            "Model Y",
            "Model 3",
            "Model X",
            "Model S"
           ]
          }
         ],
         "layout": {
          "title": {
           "font": {
            "size": 28
           },
           "text": "Tesla No. of deliveries: 2018 Q1"
          },
          "xaxis": {
           "autorange": false,
           "range": [
            0,
            100000
           ]
          },
          "yaxis": {
           "autorange": false,
           "range": [
            -0.5,
            5.5
           ],
           "tickfont": {
            "size": 14
           }
          }
         }
        },
        {
         "data": [
          {
           "marker": {
            "color": [
             "#ff7f0e",
             "#2ca02c ",
             "#d62728 ",
             "#1f77b4"
            ]
           },
           "orientation": "h",
           "text": [
            0,
            10930,
            11370,
            18440
           ],
           "type": "bar",
           "x": [
            0,
            10930,
            11370,
            18440
           ],
           "y": [
            "Model Y",
            "Model S",
            "Model X",
            "Model 3"
           ]
          }
         ],
         "layout": {
          "title": {
           "font": {
            "size": 28
           },
           "text": "Tesla No. of deliveries: 2018 Q2"
          },
          "xaxis": {
           "autorange": false,
           "range": [
            0,
            100000
           ]
          },
          "yaxis": {
           "autorange": false,
           "range": [
            -0.5,
            5.5
           ],
           "tickfont": {
            "size": 14
           }
          }
         }
        },
        {
         "data": [
          {
           "marker": {
            "color": [
             "#ff7f0e",
             "#d62728 ",
             "#2ca02c ",
             "#1f77b4"
            ]
           },
           "orientation": "h",
           "text": [
            0,
            13190,
            14470,
            55840
           ],
           "type": "bar",
           "x": [
            0,
            13190,
            14470,
            55840
           ],
           "y": [
            "Model Y",
            "Model X",
            "Model S",
            "Model 3"
           ]
          }
         ],
         "layout": {
          "title": {
           "font": {
            "size": 28
           },
           "text": "Tesla No. of deliveries: 2018 Q3"
          },
          "xaxis": {
           "autorange": false,
           "range": [
            0,
            100000
           ]
          },
          "yaxis": {
           "autorange": false,
           "range": [
            -0.5,
            5.5
           ],
           "tickfont": {
            "size": 14
           }
          }
         }
        },
        {
         "data": [
          {
           "marker": {
            "color": [
             "#ff7f0e",
             "#2ca02c ",
             "#d62728 ",
             "#1f77b4"
            ]
           },
           "orientation": "h",
           "text": [
            0,
            13500,
            14050,
            63150
           ],
           "type": "bar",
           "x": [
            0,
            13500,
            14050,
            63150
           ],
           "y": [
            "Model Y",
            "Model S",
            "Model X",
            "Model 3"
           ]
          }
         ],
         "layout": {
          "title": {
           "font": {
            "size": 28
           },
           "text": "Tesla No. of deliveries: 2018 Q4"
          },
          "xaxis": {
           "autorange": false,
           "range": [
            0,
            100000
           ]
          },
          "yaxis": {
           "autorange": false,
           "range": [
            -0.5,
            5.5
           ],
           "tickfont": {
            "size": 14
           }
          }
         }
        },
        {
         "data": [
          {
           "marker": {
            "color": [
             "#ff7f0e",
             "#2ca02c ",
             "#d62728 ",
             "#1f77b4"
            ]
           },
           "orientation": "h",
           "text": [
            0,
            6000,
            6100,
            50900
           ],
           "type": "bar",
           "x": [
            0,
            6000,
            6100,
            50900
           ],
           "y": [
            "Model Y",
            "Model S",
            "Model X",
            "Model 3"
           ]
          }
         ],
         "layout": {
          "title": {
           "font": {
            "size": 28
           },
           "text": "Tesla No. of deliveries: 2019 Q1"
          },
          "xaxis": {
           "autorange": false,
           "range": [
            0,
            100000
           ]
          },
          "yaxis": {
           "autorange": false,
           "range": [
            -0.5,
            5.5
           ],
           "tickfont": {
            "size": 14
           }
          }
         }
        },
        {
         "data": [
          {
           "marker": {
            "color": [
             "#ff7f0e",
             "#2ca02c ",
             "#d62728 ",
             "#1f77b4"
            ]
           },
           "orientation": "h",
           "text": [
            0,
            8422,
            9300,
            77634
           ],
           "type": "bar",
           "x": [
            0,
            8422,
            9300,
            77634
           ],
           "y": [
            "Model Y",
            "Model S",
            "Model X",
            "Model 3"
           ]
          }
         ],
         "layout": {
          "title": {
           "font": {
            "size": 28
           },
           "text": "Tesla No. of deliveries: 2019 Q2"
          },
          "xaxis": {
           "autorange": false,
           "range": [
            0,
            100000
           ]
          },
          "yaxis": {
           "autorange": false,
           "range": [
            -0.5,
            5.5
           ],
           "tickfont": {
            "size": 14
           }
          }
         }
        },
        {
         "data": [
          {
           "marker": {
            "color": [
             "#ff7f0e",
             "#2ca02c ",
             "#d62728 ",
             "#1f77b4"
            ]
           },
           "orientation": "h",
           "text": [
            0,
            8383,
            9100,
            79703
           ],
           "type": "bar",
           "x": [
            0,
            8383,
            9100,
            79703
           ],
           "y": [
            "Model Y",
            "Model S",
            "Model X",
            "Model 3"
           ]
          }
         ],
         "layout": {
          "title": {
           "font": {
            "size": 28
           },
           "text": "Tesla No. of deliveries: 2019 Q3"
          },
          "xaxis": {
           "autorange": false,
           "range": [
            0,
            100000
           ]
          },
          "yaxis": {
           "autorange": false,
           "range": [
            -0.5,
            5.5
           ],
           "tickfont": {
            "size": 14
           }
          }
         }
        },
        {
         "data": [
          {
           "marker": {
            "color": [
             "#ff7f0e",
             "#2ca02c ",
             "#d62728 ",
             "#1f77b4"
            ]
           },
           "orientation": "h",
           "text": [
            0,
            8375,
            11000,
            92620
           ],
           "type": "bar",
           "x": [
            0,
            8375,
            11000,
            92620
           ],
           "y": [
            "Model Y",
            "Model S",
            "Model X",
            "Model 3"
           ]
          }
         ],
         "layout": {
          "title": {
           "font": {
            "size": 28
           },
           "text": "Tesla No. of deliveries: 2019 Q4"
          },
          "xaxis": {
           "autorange": false,
           "range": [
            0,
            100000
           ]
          },
          "yaxis": {
           "autorange": false,
           "range": [
            -0.5,
            5.5
           ],
           "tickfont": {
            "size": 14
           }
          }
         }
        },
        {
         "data": [
          {
           "marker": {
            "color": [
             "#ff7f0e",
             "#2ca02c ",
             "#d62728 ",
             "#1f77b4"
            ]
           },
           "orientation": "h",
           "text": [
            2286,
            4525,
            7705,
            73980
           ],
           "type": "bar",
           "x": [
            2286,
            4525,
            7705,
            73980
           ],
           "y": [
            "Model Y",
            "Model S",
            "Model X",
            "Model 3"
           ]
          }
         ],
         "layout": {
          "title": {
           "font": {
            "size": 28
           },
           "text": "Tesla No. of deliveries: 2020 Q1"
          },
          "xaxis": {
           "autorange": false,
           "range": [
            0,
            100000
           ]
          },
          "yaxis": {
           "autorange": false,
           "range": [
            -0.5,
            5.5
           ],
           "tickfont": {
            "size": 14
           }
          }
         }
        },
        {
         "data": [
          {
           "marker": {
            "color": [
             "#2ca02c ",
             "#d62728 ",
             "#ff7f0e",
             "#1f77b4"
            ]
           },
           "orientation": "h",
           "text": [
            3927,
            6687,
            16575,
            63702
           ],
           "type": "bar",
           "x": [
            3927,
            6687,
            16575,
            63702
           ],
           "y": [
            "Model S",
            "Model X",
            "Model Y",
            "Model 3"
           ]
          }
         ],
         "layout": {
          "title": {
           "font": {
            "size": 28
           },
           "text": "Tesla No. of deliveries: 2020 Q2"
          },
          "xaxis": {
           "autorange": false,
           "range": [
            0,
            100000
           ]
          },
          "yaxis": {
           "autorange": false,
           "range": [
            -0.5,
            5.5
           ],
           "tickfont": {
            "size": 14
           }
          }
         }
        },
        {
         "data": [
          {
           "marker": {
            "color": [
             "#2ca02c ",
             "#d62728 ",
             "#ff7f0e",
             "#1f77b4"
            ]
           },
           "orientation": "h",
           "text": [
            4560,
            10640,
            26061,
            98039
           ],
           "type": "bar",
           "x": [
            4560,
            10640,
            26061,
            98039
           ],
           "y": [
            "Model S",
            "Model X",
            "Model Y",
            "Model 3"
           ]
          }
         ],
         "layout": {
          "title": {
           "font": {
            "size": 28
           },
           "text": "Tesla No. of deliveries: 2020 Q3"
          },
          "xaxis": {
           "autorange": false,
           "range": [
            0,
            100000
           ]
          },
          "yaxis": {
           "autorange": false,
           "range": [
            -0.5,
            5.5
           ],
           "tickfont": {
            "size": 14
           }
          }
         }
        }
       ],
       "layout": {
        "images": [
         {
          "layer": "below",
          "opacity": 0.5,
          "sizex": 2,
          "sizey": 2,
          "sizing": "stretch",
          "source": "https://www.logo.wine/a/logo/Tesla%2C_Inc./Tesla%2C_Inc.-Logo.wine.svg",
          "x": 0,
          "xref": "x",
          "y": 3,
          "yref": "y"
         }
        ],
        "template": {
         "data": {
          "bar": [
           {
            "error_x": {
             "color": "#2a3f5f"
            },
            "error_y": {
             "color": "#2a3f5f"
            },
            "marker": {
             "line": {
              "color": "#E5ECF6",
              "width": 0.5
             }
            },
            "type": "bar"
           }
          ],
          "barpolar": [
           {
            "marker": {
             "line": {
              "color": "#E5ECF6",
              "width": 0.5
             }
            },
            "type": "barpolar"
           }
          ],
          "carpet": [
           {
            "aaxis": {
             "endlinecolor": "#2a3f5f",
             "gridcolor": "white",
             "linecolor": "white",
             "minorgridcolor": "white",
             "startlinecolor": "#2a3f5f"
            },
            "baxis": {
             "endlinecolor": "#2a3f5f",
             "gridcolor": "white",
             "linecolor": "white",
             "minorgridcolor": "white",
             "startlinecolor": "#2a3f5f"
            },
            "type": "carpet"
           }
          ],
          "choropleth": [
           {
            "colorbar": {
             "outlinewidth": 0,
             "ticks": ""
            },
            "type": "choropleth"
           }
          ],
          "contour": [
           {
            "colorbar": {
             "outlinewidth": 0,
             "ticks": ""
            },
            "colorscale": [
             [
              0,
              "#0d0887"
             ],
             [
              0.1111111111111111,
              "#46039f"
             ],
             [
              0.2222222222222222,
              "#7201a8"
             ],
             [
              0.3333333333333333,
              "#9c179e"
             ],
             [
              0.4444444444444444,
              "#bd3786"
             ],
             [
              0.5555555555555556,
              "#d8576b"
             ],
             [
              0.6666666666666666,
              "#ed7953"
             ],
             [
              0.7777777777777778,
              "#fb9f3a"
             ],
             [
              0.8888888888888888,
              "#fdca26"
             ],
             [
              1,
              "#f0f921"
             ]
            ],
            "type": "contour"
           }
          ],
          "contourcarpet": [
           {
            "colorbar": {
             "outlinewidth": 0,
             "ticks": ""
            },
            "type": "contourcarpet"
           }
          ],
          "heatmap": [
           {
            "colorbar": {
             "outlinewidth": 0,
             "ticks": ""
            },
            "colorscale": [
             [
              0,
              "#0d0887"
             ],
             [
              0.1111111111111111,
              "#46039f"
             ],
             [
              0.2222222222222222,
              "#7201a8"
             ],
             [
              0.3333333333333333,
              "#9c179e"
             ],
             [
              0.4444444444444444,
              "#bd3786"
             ],
             [
              0.5555555555555556,
              "#d8576b"
             ],
             [
              0.6666666666666666,
              "#ed7953"
             ],
             [
              0.7777777777777778,
              "#fb9f3a"
             ],
             [
              0.8888888888888888,
              "#fdca26"
             ],
             [
              1,
              "#f0f921"
             ]
            ],
            "type": "heatmap"
           }
          ],
          "heatmapgl": [
           {
            "colorbar": {
             "outlinewidth": 0,
             "ticks": ""
            },
            "colorscale": [
             [
              0,
              "#0d0887"
             ],
             [
              0.1111111111111111,
              "#46039f"
             ],
             [
              0.2222222222222222,
              "#7201a8"
             ],
             [
              0.3333333333333333,
              "#9c179e"
             ],
             [
              0.4444444444444444,
              "#bd3786"
             ],
             [
              0.5555555555555556,
              "#d8576b"
             ],
             [
              0.6666666666666666,
              "#ed7953"
             ],
             [
              0.7777777777777778,
              "#fb9f3a"
             ],
             [
              0.8888888888888888,
              "#fdca26"
             ],
             [
              1,
              "#f0f921"
             ]
            ],
            "type": "heatmapgl"
           }
          ],
          "histogram": [
           {
            "marker": {
             "colorbar": {
              "outlinewidth": 0,
              "ticks": ""
             }
            },
            "type": "histogram"
           }
          ],
          "histogram2d": [
           {
            "colorbar": {
             "outlinewidth": 0,
             "ticks": ""
            },
            "colorscale": [
             [
              0,
              "#0d0887"
             ],
             [
              0.1111111111111111,
              "#46039f"
             ],
             [
              0.2222222222222222,
              "#7201a8"
             ],
             [
              0.3333333333333333,
              "#9c179e"
             ],
             [
              0.4444444444444444,
              "#bd3786"
             ],
             [
              0.5555555555555556,
              "#d8576b"
             ],
             [
              0.6666666666666666,
              "#ed7953"
             ],
             [
              0.7777777777777778,
              "#fb9f3a"
             ],
             [
              0.8888888888888888,
              "#fdca26"
             ],
             [
              1,
              "#f0f921"
             ]
            ],
            "type": "histogram2d"
           }
          ],
          "histogram2dcontour": [
           {
            "colorbar": {
             "outlinewidth": 0,
             "ticks": ""
            },
            "colorscale": [
             [
              0,
              "#0d0887"
             ],
             [
              0.1111111111111111,
              "#46039f"
             ],
             [
              0.2222222222222222,
              "#7201a8"
             ],
             [
              0.3333333333333333,
              "#9c179e"
             ],
             [
              0.4444444444444444,
              "#bd3786"
             ],
             [
              0.5555555555555556,
              "#d8576b"
             ],
             [
              0.6666666666666666,
              "#ed7953"
             ],
             [
              0.7777777777777778,
              "#fb9f3a"
             ],
             [
              0.8888888888888888,
              "#fdca26"
             ],
             [
              1,
              "#f0f921"
             ]
            ],
            "type": "histogram2dcontour"
           }
          ],
          "mesh3d": [
           {
            "colorbar": {
             "outlinewidth": 0,
             "ticks": ""
            },
            "type": "mesh3d"
           }
          ],
          "parcoords": [
           {
            "line": {
             "colorbar": {
              "outlinewidth": 0,
              "ticks": ""
             }
            },
            "type": "parcoords"
           }
          ],
          "pie": [
           {
            "automargin": true,
            "type": "pie"
           }
          ],
          "scatter": [
           {
            "marker": {
             "colorbar": {
              "outlinewidth": 0,
              "ticks": ""
             }
            },
            "type": "scatter"
           }
          ],
          "scatter3d": [
           {
            "line": {
             "colorbar": {
              "outlinewidth": 0,
              "ticks": ""
             }
            },
            "marker": {
             "colorbar": {
              "outlinewidth": 0,
              "ticks": ""
             }
            },
            "type": "scatter3d"
           }
          ],
          "scattercarpet": [
           {
            "marker": {
             "colorbar": {
              "outlinewidth": 0,
              "ticks": ""
             }
            },
            "type": "scattercarpet"
           }
          ],
          "scattergeo": [
           {
            "marker": {
             "colorbar": {
              "outlinewidth": 0,
              "ticks": ""
             }
            },
            "type": "scattergeo"
           }
          ],
          "scattergl": [
           {
            "marker": {
             "colorbar": {
              "outlinewidth": 0,
              "ticks": ""
             }
            },
            "type": "scattergl"
           }
          ],
          "scattermapbox": [
           {
            "marker": {
             "colorbar": {
              "outlinewidth": 0,
              "ticks": ""
             }
            },
            "type": "scattermapbox"
           }
          ],
          "scatterpolar": [
           {
            "marker": {
             "colorbar": {
              "outlinewidth": 0,
              "ticks": ""
             }
            },
            "type": "scatterpolar"
           }
          ],
          "scatterpolargl": [
           {
            "marker": {
             "colorbar": {
              "outlinewidth": 0,
              "ticks": ""
             }
            },
            "type": "scatterpolargl"
           }
          ],
          "scatterternary": [
           {
            "marker": {
             "colorbar": {
              "outlinewidth": 0,
              "ticks": ""
             }
            },
            "type": "scatterternary"
           }
          ],
          "surface": [
           {
            "colorbar": {
             "outlinewidth": 0,
             "ticks": ""
            },
            "colorscale": [
             [
              0,
              "#0d0887"
             ],
             [
              0.1111111111111111,
              "#46039f"
             ],
             [
              0.2222222222222222,
              "#7201a8"
             ],
             [
              0.3333333333333333,
              "#9c179e"
             ],
             [
              0.4444444444444444,
              "#bd3786"
             ],
             [
              0.5555555555555556,
              "#d8576b"
             ],
             [
              0.6666666666666666,
              "#ed7953"
             ],
             [
              0.7777777777777778,
              "#fb9f3a"
             ],
             [
              0.8888888888888888,
              "#fdca26"
             ],
             [
              1,
              "#f0f921"
             ]
            ],
            "type": "surface"
           }
          ],
          "table": [
           {
            "cells": {
             "fill": {
              "color": "#EBF0F8"
             },
             "line": {
              "color": "white"
             }
            },
            "header": {
             "fill": {
              "color": "#C8D4E3"
             },
             "line": {
              "color": "white"
             }
            },
            "type": "table"
           }
          ]
         },
         "layout": {
          "annotationdefaults": {
           "arrowcolor": "#2a3f5f",
           "arrowhead": 0,
           "arrowwidth": 1
          },
          "coloraxis": {
           "colorbar": {
            "outlinewidth": 0,
            "ticks": ""
           }
          },
          "colorscale": {
           "diverging": [
            [
             0,
             "#8e0152"
            ],
            [
             0.1,
             "#c51b7d"
            ],
            [
             0.2,
             "#de77ae"
            ],
            [
             0.3,
             "#f1b6da"
            ],
            [
             0.4,
             "#fde0ef"
            ],
            [
             0.5,
             "#f7f7f7"
            ],
            [
             0.6,
             "#e6f5d0"
            ],
            [
             0.7,
             "#b8e186"
            ],
            [
             0.8,
             "#7fbc41"
            ],
            [
             0.9,
             "#4d9221"
            ],
            [
             1,
             "#276419"
            ]
           ],
           "sequential": [
            [
             0,
             "#0d0887"
            ],
            [
             0.1111111111111111,
             "#46039f"
            ],
            [
             0.2222222222222222,
             "#7201a8"
            ],
            [
             0.3333333333333333,
             "#9c179e"
            ],
            [
             0.4444444444444444,
             "#bd3786"
            ],
            [
             0.5555555555555556,
             "#d8576b"
            ],
            [
             0.6666666666666666,
             "#ed7953"
            ],
            [
             0.7777777777777778,
             "#fb9f3a"
            ],
            [
             0.8888888888888888,
             "#fdca26"
            ],
            [
             1,
             "#f0f921"
            ]
           ],
           "sequentialminus": [
            [
             0,
             "#0d0887"
            ],
            [
             0.1111111111111111,
             "#46039f"
            ],
            [
             0.2222222222222222,
             "#7201a8"
            ],
            [
             0.3333333333333333,
             "#9c179e"
            ],
            [
             0.4444444444444444,
             "#bd3786"
            ],
            [
             0.5555555555555556,
             "#d8576b"
            ],
            [
             0.6666666666666666,
             "#ed7953"
            ],
            [
             0.7777777777777778,
             "#fb9f3a"
            ],
            [
             0.8888888888888888,
             "#fdca26"
            ],
            [
             1,
             "#f0f921"
            ]
           ]
          },
          "colorway": [
           "#636efa",
           "#EF553B",
           "#00cc96",
           "#ab63fa",
           "#FFA15A",
           "#19d3f3",
           "#FF6692",
           "#B6E880",
           "#FF97FF",
           "#FECB52"
          ],
          "font": {
           "color": "#2a3f5f"
          },
          "geo": {
           "bgcolor": "white",
           "lakecolor": "white",
           "landcolor": "#E5ECF6",
           "showlakes": true,
           "showland": true,
           "subunitcolor": "white"
          },
          "hoverlabel": {
           "align": "left"
          },
          "hovermode": "closest",
          "mapbox": {
           "style": "light"
          },
          "paper_bgcolor": "white",
          "plot_bgcolor": "#E5ECF6",
          "polar": {
           "angularaxis": {
            "gridcolor": "white",
            "linecolor": "white",
            "ticks": ""
           },
           "bgcolor": "#E5ECF6",
           "radialaxis": {
            "gridcolor": "white",
            "linecolor": "white",
            "ticks": ""
           }
          },
          "scene": {
           "xaxis": {
            "backgroundcolor": "#E5ECF6",
            "gridcolor": "white",
            "gridwidth": 2,
            "linecolor": "white",
            "showbackground": true,
            "ticks": "",
            "zerolinecolor": "white"
           },
           "yaxis": {
            "backgroundcolor": "#E5ECF6",
            "gridcolor": "white",
            "gridwidth": 2,
            "linecolor": "white",
            "showbackground": true,
            "ticks": "",
            "zerolinecolor": "white"
           },
           "zaxis": {
            "backgroundcolor": "#E5ECF6",
            "gridcolor": "white",
            "gridwidth": 2,
            "linecolor": "white",
            "showbackground": true,
            "ticks": "",
            "zerolinecolor": "white"
           }
          },
          "shapedefaults": {
           "line": {
            "color": "#2a3f5f"
           }
          },
          "ternary": {
           "aaxis": {
            "gridcolor": "white",
            "linecolor": "white",
            "ticks": ""
           },
           "baxis": {
            "gridcolor": "white",
            "linecolor": "white",
            "ticks": ""
           },
           "bgcolor": "#E5ECF6",
           "caxis": {
            "gridcolor": "white",
            "linecolor": "white",
            "ticks": ""
           }
          },
          "title": {
           "x": 0.05
          },
          "xaxis": {
           "automargin": true,
           "gridcolor": "white",
           "linecolor": "white",
           "ticks": "",
           "title": {
            "standoff": 15
           },
           "zerolinecolor": "white",
           "zerolinewidth": 2
          },
          "yaxis": {
           "automargin": true,
           "gridcolor": "white",
           "linecolor": "white",
           "ticks": "",
           "title": {
            "standoff": 15
           },
           "zerolinecolor": "white",
           "zerolinewidth": 2
          }
         }
        },
        "title": {
         "font": {
          "size": 28
         },
         "text": "Tesla No. of deliveries: 2016 Q2",
         "x": 0.5,
         "xanchor": "center"
        },
        "updatemenus": [
         {
          "buttons": [
           {
            "args": [
             null,
             {
              "frame": {
               "duration": 750,
               "redraw": true
              },
              "transition": {
               "duration": 180,
               "easing": "linear"
              }
             }
            ],
            "label": "Play",
            "method": "animate"
           }
          ],
          "type": "buttons"
         }
        ],
        "xaxis": {
         "autorange": false,
         "range": [
          0,
          100000
         ],
         "title": {
          "font": {
           "size": 18
          },
          "text": "Deliveries No. - Tesla Model"
         }
        },
        "yaxis": {
         "autorange": false,
         "range": [
          -0.5,
          5.5
         ],
         "tickfont": {
          "size": 14
         }
        }
       }
      },
      "text/html": [
       "<div>                            <div id=\"934d0d9c-a084-4ab6-bbd2-5d578f1cb695\" class=\"plotly-graph-div\" style=\"height:525px; width:100%;\"></div>            <script type=\"text/javascript\">                require([\"plotly\"], function(Plotly) {                    window.PLOTLYENV=window.PLOTLYENV || {};                                    if (document.getElementById(\"934d0d9c-a084-4ab6-bbd2-5d578f1cb695\")) {                    Plotly.newPlot(                        \"934d0d9c-a084-4ab6-bbd2-5d578f1cb695\",                        [{\"insidetextanchor\": \"middle\", \"marker\": {\"color\": [\"#1f77b4\", \"#ff7f0e\", \"#d62728 \", \"#2ca02c \"]}, \"orientation\": \"h\", \"text\": [0.0, 0.0, 4638.0, 9764.0], \"textfont\": {\"size\": 18}, \"textposition\": \"inside\", \"texttemplate\": \"%{text:.3s}\", \"type\": \"bar\", \"width\": 0.9, \"x\": [0, 0, 4638, 9764], \"y\": [\"Model 3\", \"Model Y\", \"Model X\", \"Model S\"]}],                        {\"images\": [{\"layer\": \"below\", \"opacity\": 0.5, \"sizex\": 2, \"sizey\": 2, \"sizing\": \"stretch\", \"source\": \"https://www.logo.wine/a/logo/Tesla%2C_Inc./Tesla%2C_Inc.-Logo.wine.svg\", \"x\": 0, \"xref\": \"x\", \"y\": 3, \"yref\": \"y\"}], \"template\": {\"data\": {\"bar\": [{\"error_x\": {\"color\": \"#2a3f5f\"}, \"error_y\": {\"color\": \"#2a3f5f\"}, \"marker\": {\"line\": {\"color\": \"#E5ECF6\", \"width\": 0.5}}, \"type\": \"bar\"}], \"barpolar\": [{\"marker\": {\"line\": {\"color\": \"#E5ECF6\", \"width\": 0.5}}, \"type\": \"barpolar\"}], \"carpet\": [{\"aaxis\": {\"endlinecolor\": \"#2a3f5f\", \"gridcolor\": \"white\", \"linecolor\": \"white\", \"minorgridcolor\": \"white\", \"startlinecolor\": \"#2a3f5f\"}, \"baxis\": {\"endlinecolor\": \"#2a3f5f\", \"gridcolor\": \"white\", \"linecolor\": \"white\", \"minorgridcolor\": \"white\", \"startlinecolor\": \"#2a3f5f\"}, \"type\": \"carpet\"}], \"choropleth\": [{\"colorbar\": {\"outlinewidth\": 0, \"ticks\": \"\"}, \"type\": \"choropleth\"}], \"contour\": [{\"colorbar\": {\"outlinewidth\": 0, \"ticks\": \"\"}, \"colorscale\": [[0.0, \"#0d0887\"], [0.1111111111111111, \"#46039f\"], [0.2222222222222222, \"#7201a8\"], [0.3333333333333333, \"#9c179e\"], [0.4444444444444444, \"#bd3786\"], [0.5555555555555556, \"#d8576b\"], [0.6666666666666666, \"#ed7953\"], [0.7777777777777778, \"#fb9f3a\"], [0.8888888888888888, \"#fdca26\"], [1.0, \"#f0f921\"]], \"type\": \"contour\"}], \"contourcarpet\": [{\"colorbar\": {\"outlinewidth\": 0, \"ticks\": \"\"}, \"type\": \"contourcarpet\"}], \"heatmap\": [{\"colorbar\": {\"outlinewidth\": 0, \"ticks\": \"\"}, \"colorscale\": [[0.0, \"#0d0887\"], [0.1111111111111111, \"#46039f\"], [0.2222222222222222, \"#7201a8\"], [0.3333333333333333, \"#9c179e\"], [0.4444444444444444, \"#bd3786\"], [0.5555555555555556, \"#d8576b\"], [0.6666666666666666, \"#ed7953\"], [0.7777777777777778, \"#fb9f3a\"], [0.8888888888888888, \"#fdca26\"], [1.0, \"#f0f921\"]], \"type\": \"heatmap\"}], \"heatmapgl\": [{\"colorbar\": {\"outlinewidth\": 0, \"ticks\": \"\"}, \"colorscale\": [[0.0, \"#0d0887\"], [0.1111111111111111, \"#46039f\"], [0.2222222222222222, \"#7201a8\"], [0.3333333333333333, \"#9c179e\"], [0.4444444444444444, \"#bd3786\"], [0.5555555555555556, \"#d8576b\"], [0.6666666666666666, \"#ed7953\"], [0.7777777777777778, \"#fb9f3a\"], [0.8888888888888888, \"#fdca26\"], [1.0, \"#f0f921\"]], \"type\": \"heatmapgl\"}], \"histogram\": [{\"marker\": {\"colorbar\": {\"outlinewidth\": 0, \"ticks\": \"\"}}, \"type\": \"histogram\"}], \"histogram2d\": [{\"colorbar\": {\"outlinewidth\": 0, \"ticks\": \"\"}, \"colorscale\": [[0.0, \"#0d0887\"], [0.1111111111111111, \"#46039f\"], [0.2222222222222222, \"#7201a8\"], [0.3333333333333333, \"#9c179e\"], [0.4444444444444444, \"#bd3786\"], [0.5555555555555556, \"#d8576b\"], [0.6666666666666666, \"#ed7953\"], [0.7777777777777778, \"#fb9f3a\"], [0.8888888888888888, \"#fdca26\"], [1.0, \"#f0f921\"]], \"type\": \"histogram2d\"}], \"histogram2dcontour\": [{\"colorbar\": {\"outlinewidth\": 0, \"ticks\": \"\"}, \"colorscale\": [[0.0, \"#0d0887\"], [0.1111111111111111, \"#46039f\"], [0.2222222222222222, \"#7201a8\"], [0.3333333333333333, \"#9c179e\"], [0.4444444444444444, \"#bd3786\"], [0.5555555555555556, \"#d8576b\"], [0.6666666666666666, \"#ed7953\"], [0.7777777777777778, \"#fb9f3a\"], [0.8888888888888888, \"#fdca26\"], [1.0, \"#f0f921\"]], \"type\": \"histogram2dcontour\"}], \"mesh3d\": [{\"colorbar\": {\"outlinewidth\": 0, \"ticks\": \"\"}, \"type\": \"mesh3d\"}], \"parcoords\": [{\"line\": {\"colorbar\": {\"outlinewidth\": 0, \"ticks\": \"\"}}, \"type\": \"parcoords\"}], \"pie\": [{\"automargin\": true, \"type\": \"pie\"}], \"scatter\": [{\"marker\": {\"colorbar\": {\"outlinewidth\": 0, \"ticks\": \"\"}}, \"type\": \"scatter\"}], \"scatter3d\": [{\"line\": {\"colorbar\": {\"outlinewidth\": 0, \"ticks\": \"\"}}, \"marker\": {\"colorbar\": {\"outlinewidth\": 0, \"ticks\": \"\"}}, \"type\": \"scatter3d\"}], \"scattercarpet\": [{\"marker\": {\"colorbar\": {\"outlinewidth\": 0, \"ticks\": \"\"}}, \"type\": \"scattercarpet\"}], \"scattergeo\": [{\"marker\": {\"colorbar\": {\"outlinewidth\": 0, \"ticks\": \"\"}}, \"type\": \"scattergeo\"}], \"scattergl\": [{\"marker\": {\"colorbar\": {\"outlinewidth\": 0, \"ticks\": \"\"}}, \"type\": \"scattergl\"}], \"scattermapbox\": [{\"marker\": {\"colorbar\": {\"outlinewidth\": 0, \"ticks\": \"\"}}, \"type\": \"scattermapbox\"}], \"scatterpolar\": [{\"marker\": {\"colorbar\": {\"outlinewidth\": 0, \"ticks\": \"\"}}, \"type\": \"scatterpolar\"}], \"scatterpolargl\": [{\"marker\": {\"colorbar\": {\"outlinewidth\": 0, \"ticks\": \"\"}}, \"type\": \"scatterpolargl\"}], \"scatterternary\": [{\"marker\": {\"colorbar\": {\"outlinewidth\": 0, \"ticks\": \"\"}}, \"type\": \"scatterternary\"}], \"surface\": [{\"colorbar\": {\"outlinewidth\": 0, \"ticks\": \"\"}, \"colorscale\": [[0.0, \"#0d0887\"], [0.1111111111111111, \"#46039f\"], [0.2222222222222222, \"#7201a8\"], [0.3333333333333333, \"#9c179e\"], [0.4444444444444444, \"#bd3786\"], [0.5555555555555556, \"#d8576b\"], [0.6666666666666666, \"#ed7953\"], [0.7777777777777778, \"#fb9f3a\"], [0.8888888888888888, \"#fdca26\"], [1.0, \"#f0f921\"]], \"type\": \"surface\"}], \"table\": [{\"cells\": {\"fill\": {\"color\": \"#EBF0F8\"}, \"line\": {\"color\": \"white\"}}, \"header\": {\"fill\": {\"color\": \"#C8D4E3\"}, \"line\": {\"color\": \"white\"}}, \"type\": \"table\"}]}, \"layout\": {\"annotationdefaults\": {\"arrowcolor\": \"#2a3f5f\", \"arrowhead\": 0, \"arrowwidth\": 1}, \"coloraxis\": {\"colorbar\": {\"outlinewidth\": 0, \"ticks\": \"\"}}, \"colorscale\": {\"diverging\": [[0, \"#8e0152\"], [0.1, \"#c51b7d\"], [0.2, \"#de77ae\"], [0.3, \"#f1b6da\"], [0.4, \"#fde0ef\"], [0.5, \"#f7f7f7\"], [0.6, \"#e6f5d0\"], [0.7, \"#b8e186\"], [0.8, \"#7fbc41\"], [0.9, \"#4d9221\"], [1, \"#276419\"]], \"sequential\": [[0.0, \"#0d0887\"], [0.1111111111111111, \"#46039f\"], [0.2222222222222222, \"#7201a8\"], [0.3333333333333333, \"#9c179e\"], [0.4444444444444444, \"#bd3786\"], [0.5555555555555556, \"#d8576b\"], [0.6666666666666666, \"#ed7953\"], [0.7777777777777778, \"#fb9f3a\"], [0.8888888888888888, \"#fdca26\"], [1.0, \"#f0f921\"]], \"sequentialminus\": [[0.0, \"#0d0887\"], [0.1111111111111111, \"#46039f\"], [0.2222222222222222, \"#7201a8\"], [0.3333333333333333, \"#9c179e\"], [0.4444444444444444, \"#bd3786\"], [0.5555555555555556, \"#d8576b\"], [0.6666666666666666, \"#ed7953\"], [0.7777777777777778, \"#fb9f3a\"], [0.8888888888888888, \"#fdca26\"], [1.0, \"#f0f921\"]]}, \"colorway\": [\"#636efa\", \"#EF553B\", \"#00cc96\", \"#ab63fa\", \"#FFA15A\", \"#19d3f3\", \"#FF6692\", \"#B6E880\", \"#FF97FF\", \"#FECB52\"], \"font\": {\"color\": \"#2a3f5f\"}, \"geo\": {\"bgcolor\": \"white\", \"lakecolor\": \"white\", \"landcolor\": \"#E5ECF6\", \"showlakes\": true, \"showland\": true, \"subunitcolor\": \"white\"}, \"hoverlabel\": {\"align\": \"left\"}, \"hovermode\": \"closest\", \"mapbox\": {\"style\": \"light\"}, \"paper_bgcolor\": \"white\", \"plot_bgcolor\": \"#E5ECF6\", \"polar\": {\"angularaxis\": {\"gridcolor\": \"white\", \"linecolor\": \"white\", \"ticks\": \"\"}, \"bgcolor\": \"#E5ECF6\", \"radialaxis\": {\"gridcolor\": \"white\", \"linecolor\": \"white\", \"ticks\": \"\"}}, \"scene\": {\"xaxis\": {\"backgroundcolor\": \"#E5ECF6\", \"gridcolor\": \"white\", \"gridwidth\": 2, \"linecolor\": \"white\", \"showbackground\": true, \"ticks\": \"\", \"zerolinecolor\": \"white\"}, \"yaxis\": {\"backgroundcolor\": \"#E5ECF6\", \"gridcolor\": \"white\", \"gridwidth\": 2, \"linecolor\": \"white\", \"showbackground\": true, \"ticks\": \"\", \"zerolinecolor\": \"white\"}, \"zaxis\": {\"backgroundcolor\": \"#E5ECF6\", \"gridcolor\": \"white\", \"gridwidth\": 2, \"linecolor\": \"white\", \"showbackground\": true, \"ticks\": \"\", \"zerolinecolor\": \"white\"}}, \"shapedefaults\": {\"line\": {\"color\": \"#2a3f5f\"}}, \"ternary\": {\"aaxis\": {\"gridcolor\": \"white\", \"linecolor\": \"white\", \"ticks\": \"\"}, \"baxis\": {\"gridcolor\": \"white\", \"linecolor\": \"white\", \"ticks\": \"\"}, \"bgcolor\": \"#E5ECF6\", \"caxis\": {\"gridcolor\": \"white\", \"linecolor\": \"white\", \"ticks\": \"\"}}, \"title\": {\"x\": 0.05}, \"xaxis\": {\"automargin\": true, \"gridcolor\": \"white\", \"linecolor\": \"white\", \"ticks\": \"\", \"title\": {\"standoff\": 15}, \"zerolinecolor\": \"white\", \"zerolinewidth\": 2}, \"yaxis\": {\"automargin\": true, \"gridcolor\": \"white\", \"linecolor\": \"white\", \"ticks\": \"\", \"title\": {\"standoff\": 15}, \"zerolinecolor\": \"white\", \"zerolinewidth\": 2}}}, \"title\": {\"font\": {\"size\": 28}, \"text\": \"Tesla No. of deliveries: 2016 Q2\", \"x\": 0.5, \"xanchor\": \"center\"}, \"updatemenus\": [{\"buttons\": [{\"args\": [null, {\"frame\": {\"duration\": 750, \"redraw\": true}, \"transition\": {\"duration\": 180, \"easing\": \"linear\"}}], \"label\": \"Play\", \"method\": \"animate\"}], \"type\": \"buttons\"}], \"xaxis\": {\"autorange\": false, \"range\": [0, 100000], \"title\": {\"font\": {\"size\": 18}, \"text\": \"Deliveries No. - Tesla Model\"}}, \"yaxis\": {\"autorange\": false, \"range\": [-0.5, 5.5], \"tickfont\": {\"size\": 14}}},                        {\"responsive\": true}                    ).then(function(){\n",
       "                            Plotly.addFrames('934d0d9c-a084-4ab6-bbd2-5d578f1cb695', [{\"data\": [{\"marker\": {\"color\": [\"#1f77b4\", \"#ff7f0e\", \"#d62728 \", \"#2ca02c \"]}, \"orientation\": \"h\", \"text\": [0.0, 0.0, 4638.0, 9764.0], \"x\": [0, 0, 4638, 9764], \"y\": [\"Model 3\", \"Model Y\", \"Model X\", \"Model S\"], \"type\": \"bar\"}], \"layout\": {\"title\": {\"font\": {\"size\": 28}, \"text\": \"Tesla No. of deliveries: 2016 Q2\"}, \"xaxis\": {\"autorange\": false, \"range\": [0, 100000]}, \"yaxis\": {\"autorange\": false, \"range\": [-0.5, 5.5], \"tickfont\": {\"size\": 14}}}}, {\"data\": [{\"marker\": {\"color\": [\"#1f77b4\", \"#ff7f0e\", \"#d62728 \", \"#2ca02c \"]}, \"orientation\": \"h\", \"text\": [0.0, 0.0, 8774.0, 16047.0], \"x\": [0, 0, 8774, 16047], \"y\": [\"Model 3\", \"Model Y\", \"Model X\", \"Model S\"], \"type\": \"bar\"}], \"layout\": {\"title\": {\"font\": {\"size\": 28}, \"text\": \"Tesla No. of deliveries: 2016 Q3\"}, \"xaxis\": {\"autorange\": false, \"range\": [0, 100000]}, \"yaxis\": {\"autorange\": false, \"range\": [-0.5, 5.5], \"tickfont\": {\"size\": 14}}}}, {\"data\": [{\"marker\": {\"color\": [\"#1f77b4\", \"#ff7f0e\", \"#d62728 \", \"#2ca02c \"]}, \"orientation\": \"h\", \"text\": [0.0, 0.0, 9500.0, 12700.0], \"x\": [0, 0, 9500, 12700], \"y\": [\"Model 3\", \"Model Y\", \"Model X\", \"Model S\"], \"type\": \"bar\"}], \"layout\": {\"title\": {\"font\": {\"size\": 28}, \"text\": \"Tesla No. of deliveries: 2016 Q4\"}, \"xaxis\": {\"autorange\": false, \"range\": [0, 100000]}, \"yaxis\": {\"autorange\": false, \"range\": [-0.5, 5.5], \"tickfont\": {\"size\": 14}}}}, {\"data\": [{\"marker\": {\"color\": [\"#1f77b4\", \"#ff7f0e\", \"#d62728 \", \"#2ca02c \"]}, \"orientation\": \"h\", \"text\": [0.0, 0.0, 11570.0, 13481.0], \"x\": [0, 0, 11570, 13481], \"y\": [\"Model 3\", \"Model Y\", \"Model X\", \"Model S\"], \"type\": \"bar\"}], \"layout\": {\"title\": {\"font\": {\"size\": 28}, \"text\": \"Tesla No. of deliveries: 2017 Q1\"}, \"xaxis\": {\"autorange\": false, \"range\": [0, 100000]}, \"yaxis\": {\"autorange\": false, \"range\": [-0.5, 5.5], \"tickfont\": {\"size\": 14}}}}, {\"data\": [{\"marker\": {\"color\": [\"#1f77b4\", \"#ff7f0e\", \"#d62728 \", \"#2ca02c \"]}, \"orientation\": \"h\", \"text\": [0.0, 0.0, 10010.0, 12010.0], \"x\": [0, 0, 10010, 12010], \"y\": [\"Model 3\", \"Model Y\", \"Model X\", \"Model S\"], \"type\": \"bar\"}], \"layout\": {\"title\": {\"font\": {\"size\": 28}, \"text\": \"Tesla No. of deliveries: 2017 Q2\"}, \"xaxis\": {\"autorange\": false, \"range\": [0, 100000]}, \"yaxis\": {\"autorange\": false, \"range\": [-0.5, 5.5], \"tickfont\": {\"size\": 14}}}}, {\"data\": [{\"marker\": {\"color\": [\"#ff7f0e\", \"#1f77b4\", \"#d62728 \", \"#2ca02c \"]}, \"orientation\": \"h\", \"text\": [0.0, 220.0, 11865.0, 14065.0], \"x\": [0, 220, 11865, 14065], \"y\": [\"Model Y\", \"Model 3\", \"Model X\", \"Model S\"], \"type\": \"bar\"}], \"layout\": {\"title\": {\"font\": {\"size\": 28}, \"text\": \"Tesla No. of deliveries: 2017 Q3\"}, \"xaxis\": {\"autorange\": false, \"range\": [0, 100000]}, \"yaxis\": {\"autorange\": false, \"range\": [-0.5, 5.5], \"tickfont\": {\"size\": 14}}}}, {\"data\": [{\"marker\": {\"color\": [\"#ff7f0e\", \"#1f77b4\", \"#d62728 \", \"#2ca02c \"]}, \"orientation\": \"h\", \"text\": [0.0, 1550.0, 13120.0, 15200.0], \"x\": [0, 1550, 13120, 15200], \"y\": [\"Model Y\", \"Model 3\", \"Model X\", \"Model S\"], \"type\": \"bar\"}], \"layout\": {\"title\": {\"font\": {\"size\": 28}, \"text\": \"Tesla No. of deliveries: 2017 Q4\"}, \"xaxis\": {\"autorange\": false, \"range\": [0, 100000]}, \"yaxis\": {\"autorange\": false, \"range\": [-0.5, 5.5], \"tickfont\": {\"size\": 14}}}}, {\"data\": [{\"marker\": {\"color\": [\"#ff7f0e\", \"#1f77b4\", \"#d62728 \", \"#2ca02c \"]}, \"orientation\": \"h\", \"text\": [0.0, 8180.0, 10070.0, 11730.0], \"x\": [0, 8180, 10070, 11730], \"y\": [\"Model Y\", \"Model 3\", \"Model X\", \"Model S\"], \"type\": \"bar\"}], \"layout\": {\"title\": {\"font\": {\"size\": 28}, \"text\": \"Tesla No. of deliveries: 2018 Q1\"}, \"xaxis\": {\"autorange\": false, \"range\": [0, 100000]}, \"yaxis\": {\"autorange\": false, \"range\": [-0.5, 5.5], \"tickfont\": {\"size\": 14}}}}, {\"data\": [{\"marker\": {\"color\": [\"#ff7f0e\", \"#2ca02c \", \"#d62728 \", \"#1f77b4\"]}, \"orientation\": \"h\", \"text\": [0.0, 10930.0, 11370.0, 18440.0], \"x\": [0, 10930, 11370, 18440], \"y\": [\"Model Y\", \"Model S\", \"Model X\", \"Model 3\"], \"type\": \"bar\"}], \"layout\": {\"title\": {\"font\": {\"size\": 28}, \"text\": \"Tesla No. of deliveries: 2018 Q2\"}, \"xaxis\": {\"autorange\": false, \"range\": [0, 100000]}, \"yaxis\": {\"autorange\": false, \"range\": [-0.5, 5.5], \"tickfont\": {\"size\": 14}}}}, {\"data\": [{\"marker\": {\"color\": [\"#ff7f0e\", \"#d62728 \", \"#2ca02c \", \"#1f77b4\"]}, \"orientation\": \"h\", \"text\": [0.0, 13190.0, 14470.0, 55840.0], \"x\": [0, 13190, 14470, 55840], \"y\": [\"Model Y\", \"Model X\", \"Model S\", \"Model 3\"], \"type\": \"bar\"}], \"layout\": {\"title\": {\"font\": {\"size\": 28}, \"text\": \"Tesla No. of deliveries: 2018 Q3\"}, \"xaxis\": {\"autorange\": false, \"range\": [0, 100000]}, \"yaxis\": {\"autorange\": false, \"range\": [-0.5, 5.5], \"tickfont\": {\"size\": 14}}}}, {\"data\": [{\"marker\": {\"color\": [\"#ff7f0e\", \"#2ca02c \", \"#d62728 \", \"#1f77b4\"]}, \"orientation\": \"h\", \"text\": [0.0, 13500.0, 14050.0, 63150.0], \"x\": [0, 13500, 14050, 63150], \"y\": [\"Model Y\", \"Model S\", \"Model X\", \"Model 3\"], \"type\": \"bar\"}], \"layout\": {\"title\": {\"font\": {\"size\": 28}, \"text\": \"Tesla No. of deliveries: 2018 Q4\"}, \"xaxis\": {\"autorange\": false, \"range\": [0, 100000]}, \"yaxis\": {\"autorange\": false, \"range\": [-0.5, 5.5], \"tickfont\": {\"size\": 14}}}}, {\"data\": [{\"marker\": {\"color\": [\"#ff7f0e\", \"#2ca02c \", \"#d62728 \", \"#1f77b4\"]}, \"orientation\": \"h\", \"text\": [0.0, 6000.0, 6100.0, 50900.0], \"x\": [0, 6000, 6100, 50900], \"y\": [\"Model Y\", \"Model S\", \"Model X\", \"Model 3\"], \"type\": \"bar\"}], \"layout\": {\"title\": {\"font\": {\"size\": 28}, \"text\": \"Tesla No. of deliveries: 2019 Q1\"}, \"xaxis\": {\"autorange\": false, \"range\": [0, 100000]}, \"yaxis\": {\"autorange\": false, \"range\": [-0.5, 5.5], \"tickfont\": {\"size\": 14}}}}, {\"data\": [{\"marker\": {\"color\": [\"#ff7f0e\", \"#2ca02c \", \"#d62728 \", \"#1f77b4\"]}, \"orientation\": \"h\", \"text\": [0.0, 8422.0, 9300.0, 77634.0], \"x\": [0, 8422, 9300, 77634], \"y\": [\"Model Y\", \"Model S\", \"Model X\", \"Model 3\"], \"type\": \"bar\"}], \"layout\": {\"title\": {\"font\": {\"size\": 28}, \"text\": \"Tesla No. of deliveries: 2019 Q2\"}, \"xaxis\": {\"autorange\": false, \"range\": [0, 100000]}, \"yaxis\": {\"autorange\": false, \"range\": [-0.5, 5.5], \"tickfont\": {\"size\": 14}}}}, {\"data\": [{\"marker\": {\"color\": [\"#ff7f0e\", \"#2ca02c \", \"#d62728 \", \"#1f77b4\"]}, \"orientation\": \"h\", \"text\": [0.0, 8383.0, 9100.0, 79703.0], \"x\": [0, 8383, 9100, 79703], \"y\": [\"Model Y\", \"Model S\", \"Model X\", \"Model 3\"], \"type\": \"bar\"}], \"layout\": {\"title\": {\"font\": {\"size\": 28}, \"text\": \"Tesla No. of deliveries: 2019 Q3\"}, \"xaxis\": {\"autorange\": false, \"range\": [0, 100000]}, \"yaxis\": {\"autorange\": false, \"range\": [-0.5, 5.5], \"tickfont\": {\"size\": 14}}}}, {\"data\": [{\"marker\": {\"color\": [\"#ff7f0e\", \"#2ca02c \", \"#d62728 \", \"#1f77b4\"]}, \"orientation\": \"h\", \"text\": [0.0, 8375.0, 11000.0, 92620.0], \"x\": [0, 8375, 11000, 92620], \"y\": [\"Model Y\", \"Model S\", \"Model X\", \"Model 3\"], \"type\": \"bar\"}], \"layout\": {\"title\": {\"font\": {\"size\": 28}, \"text\": \"Tesla No. of deliveries: 2019 Q4\"}, \"xaxis\": {\"autorange\": false, \"range\": [0, 100000]}, \"yaxis\": {\"autorange\": false, \"range\": [-0.5, 5.5], \"tickfont\": {\"size\": 14}}}}, {\"data\": [{\"marker\": {\"color\": [\"#ff7f0e\", \"#2ca02c \", \"#d62728 \", \"#1f77b4\"]}, \"orientation\": \"h\", \"text\": [2286.0, 4525.0, 7705.0, 73980.0], \"x\": [2286, 4525, 7705, 73980], \"y\": [\"Model Y\", \"Model S\", \"Model X\", \"Model 3\"], \"type\": \"bar\"}], \"layout\": {\"title\": {\"font\": {\"size\": 28}, \"text\": \"Tesla No. of deliveries: 2020 Q1\"}, \"xaxis\": {\"autorange\": false, \"range\": [0, 100000]}, \"yaxis\": {\"autorange\": false, \"range\": [-0.5, 5.5], \"tickfont\": {\"size\": 14}}}}, {\"data\": [{\"marker\": {\"color\": [\"#2ca02c \", \"#d62728 \", \"#ff7f0e\", \"#1f77b4\"]}, \"orientation\": \"h\", \"text\": [3927.0, 6687.0, 16575.0, 63702.0], \"x\": [3927, 6687, 16575, 63702], \"y\": [\"Model S\", \"Model X\", \"Model Y\", \"Model 3\"], \"type\": \"bar\"}], \"layout\": {\"title\": {\"font\": {\"size\": 28}, \"text\": \"Tesla No. of deliveries: 2020 Q2\"}, \"xaxis\": {\"autorange\": false, \"range\": [0, 100000]}, \"yaxis\": {\"autorange\": false, \"range\": [-0.5, 5.5], \"tickfont\": {\"size\": 14}}}}, {\"data\": [{\"marker\": {\"color\": [\"#2ca02c \", \"#d62728 \", \"#ff7f0e\", \"#1f77b4\"]}, \"orientation\": \"h\", \"text\": [4560.0, 10640.0, 26061.0, 98039.0], \"x\": [4560, 10640, 26061, 98039], \"y\": [\"Model S\", \"Model X\", \"Model Y\", \"Model 3\"], \"type\": \"bar\"}], \"layout\": {\"title\": {\"font\": {\"size\": 28}, \"text\": \"Tesla No. of deliveries: 2020 Q3\"}, \"xaxis\": {\"autorange\": false, \"range\": [0, 100000]}, \"yaxis\": {\"autorange\": false, \"range\": [-0.5, 5.5], \"tickfont\": {\"size\": 14}}}}]);\n",
       "                        }).then(function(){\n",
       "                            \n",
       "var gd = document.getElementById('934d0d9c-a084-4ab6-bbd2-5d578f1cb695');\n",
       "var x = new MutationObserver(function (mutations, observer) {{\n",
       "        var display = window.getComputedStyle(gd).display;\n",
       "        if (!display || display === 'none') {{\n",
       "            console.log([gd, 'removed!']);\n",
       "            Plotly.purge(gd);\n",
       "            observer.disconnect();\n",
       "        }}\n",
       "}});\n",
       "\n",
       "// Listen for the removal of the full notebook cells\n",
       "var notebookContainer = gd.closest('#notebook-container');\n",
       "if (notebookContainer) {{\n",
       "    x.observe(notebookContainer, {childList: true});\n",
       "}}\n",
       "\n",
       "// Listen for the clearing of the current output cell\n",
       "var outputEl = gd.closest('.output');\n",
       "if (outputEl) {{\n",
       "    x.observe(outputEl, {childList: true});\n",
       "}}\n",
       "\n",
       "                        })                };                });            </script>        </div>"
      ]
     },
     "metadata": {},
     "output_type": "display_data"
    }
   ],
   "source": [
    "fig=go.Figure(data=[go.Bar(x=n_frame['one']['Deliveries No.'], y=n_frame['one']['Model'], \n",
    "                    orientation='h', text=n_frame['one']['Deliveries No.'], texttemplate='%{text:.3s}', \n",
    "                    textfont={'size':18}, textposition='inside', insidetextanchor='middle', width=0.9, \n",
    "                    marker={'color':n_frame['one']['Color_Code']})],\n",
    "              layout=go.Layout(xaxis=dict(range=[0,100000], autorange=False, title=dict(text='Deliveries No. - Tesla Model', font=dict(size=18))),\n",
    "                               yaxis=dict(range=[-0.5, 5.5], autorange=False, tickfont=dict(size=14)), title=dict(text='Tesla No. of deliveries: 2016 Q2', font=dict(size=28), x=0.5, xanchor='center'),\n",
    "                               updatemenus=[dict(type='buttons', buttons=[dict(label='Play', method='animate', args=[None, {\"frame\": {\"duration\": 750, \"redraw\": True}, \"transition\": {\"duration\": 180, \"easing\": \"linear\"}}]\n",
    "                                                                              )]\n",
    "                                                )]\n",
    "                              ),\n",
    "              frames=[go.Frame(data=[go.Bar(x=value['Deliveries No.'], y=value['Model'],\n",
    "                                    orientation='h', text=value['Deliveries No.'], marker={'color':value['Color_Code']})\n",
    "                                    ], \n",
    "                                    layout=go.Layout(\n",
    "                                            xaxis=dict(range=[0,100000], autorange=False),\n",
    "                                            yaxis=dict(range=[-0.5, 5.5], autorange=False, tickfont=dict(size=14)), \n",
    "                                            title=dict(text='Tesla No. of deliveries: ' + value['Quarter/Year'].values[0],\n",
    "                                            font=dict(size=28))\n",
    "                                    )\n",
    "                                      )\n",
    "                        for key, value in n_frame.items()\n",
    "                      ]\n",
    ")\n",
    "\n",
    "fig.add_layout_image(\n",
    "        dict(\n",
    "            source=\"https://www.logo.wine/a/logo/Tesla%2C_Inc./Tesla%2C_Inc.-Logo.wine.svg\",\n",
    "            xref=\"x\",\n",
    "            yref=\"y\",\n",
    "            x=0,\n",
    "            y=3,\n",
    "            sizex=2,\n",
    "            sizey=2,\n",
    "            sizing=\"stretch\",\n",
    "            opacity=0.5,\n",
    "            layer=\"below\"))\n",
    "\n",
    "pio.show(fig)"
   ]
  },
  {
   "cell_type": "code",
   "execution_count": null,
   "metadata": {},
   "outputs": [],
   "source": []
  }
 ],
 "metadata": {
  "kernelspec": {
   "display_name": "Python 3",
   "language": "python",
   "name": "python3"
  },
  "language_info": {
   "codemirror_mode": {
    "name": "ipython",
    "version": 3
   },
   "file_extension": ".py",
   "mimetype": "text/x-python",
   "name": "python",
   "nbconvert_exporter": "python",
   "pygments_lexer": "ipython3",
   "version": "3.8.3"
  }
 },
 "nbformat": 4,
 "nbformat_minor": 4
}
